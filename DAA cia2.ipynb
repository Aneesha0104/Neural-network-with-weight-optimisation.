{
 "cells": [
  {
   "cell_type": "markdown",
   "id": "a5d8f75e",
   "metadata": {},
   "source": [
    "### Neural Nets"
   ]
  },
  {
   "cell_type": "code",
   "execution_count": 1,
   "id": "a4c914f6",
   "metadata": {},
   "outputs": [],
   "source": [
    "import pandas as pd\n",
    "import numpy as np\n",
    "import random"
   ]
  },
  {
   "cell_type": "code",
   "execution_count": 2,
   "id": "150047ce",
   "metadata": {},
   "outputs": [],
   "source": [
    "df = pd.read_csv(\"Bank_Personal_Loan_Modelling-Copy1.csv\")"
   ]
  },
  {
   "cell_type": "code",
   "execution_count": 3,
   "id": "e261ad0e",
   "metadata": {},
   "outputs": [],
   "source": [
    "df['Experience'] = abs(df['Experience'])"
   ]
  },
  {
   "cell_type": "code",
   "execution_count": 4,
   "id": "59988b1b",
   "metadata": {},
   "outputs": [
    {
     "data": {
      "text/html": [
       "<div>\n",
       "<style scoped>\n",
       "    .dataframe tbody tr th:only-of-type {\n",
       "        vertical-align: middle;\n",
       "    }\n",
       "\n",
       "    .dataframe tbody tr th {\n",
       "        vertical-align: top;\n",
       "    }\n",
       "\n",
       "    .dataframe thead th {\n",
       "        text-align: right;\n",
       "    }\n",
       "</style>\n",
       "<table border=\"1\" class=\"dataframe\">\n",
       "  <thead>\n",
       "    <tr style=\"text-align: right;\">\n",
       "      <th></th>\n",
       "      <th>ID</th>\n",
       "      <th>Age</th>\n",
       "      <th>Experience</th>\n",
       "      <th>Income</th>\n",
       "      <th>ZIP Code</th>\n",
       "      <th>Family</th>\n",
       "      <th>CCAvg</th>\n",
       "      <th>Education</th>\n",
       "      <th>Mortgage</th>\n",
       "      <th>Personal Loan</th>\n",
       "      <th>Securities Account</th>\n",
       "      <th>CD Account</th>\n",
       "      <th>Online</th>\n",
       "      <th>CreditCard</th>\n",
       "      <th>target</th>\n",
       "    </tr>\n",
       "  </thead>\n",
       "  <tbody>\n",
       "    <tr>\n",
       "      <th>0</th>\n",
       "      <td>1</td>\n",
       "      <td>25</td>\n",
       "      <td>1</td>\n",
       "      <td>49</td>\n",
       "      <td>91107</td>\n",
       "      <td>4</td>\n",
       "      <td>1.6</td>\n",
       "      <td>1</td>\n",
       "      <td>0</td>\n",
       "      <td>0</td>\n",
       "      <td>1</td>\n",
       "      <td>0</td>\n",
       "      <td>0</td>\n",
       "      <td>0</td>\n",
       "      <td>0</td>\n",
       "    </tr>\n",
       "    <tr>\n",
       "      <th>1</th>\n",
       "      <td>2</td>\n",
       "      <td>45</td>\n",
       "      <td>19</td>\n",
       "      <td>34</td>\n",
       "      <td>90089</td>\n",
       "      <td>3</td>\n",
       "      <td>1.5</td>\n",
       "      <td>1</td>\n",
       "      <td>0</td>\n",
       "      <td>0</td>\n",
       "      <td>1</td>\n",
       "      <td>0</td>\n",
       "      <td>0</td>\n",
       "      <td>0</td>\n",
       "      <td>0</td>\n",
       "    </tr>\n",
       "    <tr>\n",
       "      <th>2</th>\n",
       "      <td>3</td>\n",
       "      <td>39</td>\n",
       "      <td>15</td>\n",
       "      <td>11</td>\n",
       "      <td>94720</td>\n",
       "      <td>1</td>\n",
       "      <td>1.0</td>\n",
       "      <td>1</td>\n",
       "      <td>0</td>\n",
       "      <td>0</td>\n",
       "      <td>0</td>\n",
       "      <td>0</td>\n",
       "      <td>0</td>\n",
       "      <td>0</td>\n",
       "      <td>0</td>\n",
       "    </tr>\n",
       "    <tr>\n",
       "      <th>3</th>\n",
       "      <td>4</td>\n",
       "      <td>35</td>\n",
       "      <td>9</td>\n",
       "      <td>100</td>\n",
       "      <td>94112</td>\n",
       "      <td>1</td>\n",
       "      <td>2.7</td>\n",
       "      <td>2</td>\n",
       "      <td>0</td>\n",
       "      <td>0</td>\n",
       "      <td>0</td>\n",
       "      <td>0</td>\n",
       "      <td>0</td>\n",
       "      <td>0</td>\n",
       "      <td>0</td>\n",
       "    </tr>\n",
       "    <tr>\n",
       "      <th>4</th>\n",
       "      <td>5</td>\n",
       "      <td>35</td>\n",
       "      <td>8</td>\n",
       "      <td>45</td>\n",
       "      <td>91330</td>\n",
       "      <td>4</td>\n",
       "      <td>1.0</td>\n",
       "      <td>2</td>\n",
       "      <td>0</td>\n",
       "      <td>0</td>\n",
       "      <td>0</td>\n",
       "      <td>0</td>\n",
       "      <td>0</td>\n",
       "      <td>1</td>\n",
       "      <td>0</td>\n",
       "    </tr>\n",
       "  </tbody>\n",
       "</table>\n",
       "</div>"
      ],
      "text/plain": [
       "   ID  Age  Experience  Income  ZIP Code  Family  CCAvg  Education  Mortgage  \\\n",
       "0   1   25           1      49     91107       4    1.6          1         0   \n",
       "1   2   45          19      34     90089       3    1.5          1         0   \n",
       "2   3   39          15      11     94720       1    1.0          1         0   \n",
       "3   4   35           9     100     94112       1    2.7          2         0   \n",
       "4   5   35           8      45     91330       4    1.0          2         0   \n",
       "\n",
       "   Personal Loan  Securities Account  CD Account  Online  CreditCard  target  \n",
       "0              0                   1           0       0           0       0  \n",
       "1              0                   1           0       0           0       0  \n",
       "2              0                   0           0       0           0       0  \n",
       "3              0                   0           0       0           0       0  \n",
       "4              0                   0           0       0           1       0  "
      ]
     },
     "execution_count": 4,
     "metadata": {},
     "output_type": "execute_result"
    }
   ],
   "source": [
    "df['target'] = df['Personal Loan']\n",
    "df.head()"
   ]
  },
  {
   "cell_type": "code",
   "execution_count": 5,
   "id": "8bd8f3c8",
   "metadata": {},
   "outputs": [],
   "source": [
    "df.drop('ID',axis=1,inplace=True)\n",
    "df.drop('ZIP Code',axis=1,inplace=True)\n",
    "df.drop('Personal Loan',axis=1,inplace=True)\n"
   ]
  },
  {
   "cell_type": "code",
   "execution_count": 6,
   "id": "13109467",
   "metadata": {},
   "outputs": [],
   "source": [
    "x = df.iloc[:,:-1].values\n",
    "y= df.iloc[:,-1].values"
   ]
  },
  {
   "cell_type": "code",
   "execution_count": 7,
   "id": "91952aa5",
   "metadata": {},
   "outputs": [],
   "source": [
    "from sklearn.model_selection import train_test_split\n",
    "\n",
    "x_train,x_test,y_train,y_test = train_test_split(x,y,test_size =0.3,random_state =0)\n"
   ]
  },
  {
   "cell_type": "code",
   "execution_count": 8,
   "id": "6cd842c1",
   "metadata": {},
   "outputs": [],
   "source": [
    "from sklearn.preprocessing import StandardScaler\n",
    "sc = StandardScaler()\n",
    "x_train = sc.fit_transform(x_train)\n",
    "x_test = sc.transform(x_test)"
   ]
  },
  {
   "cell_type": "code",
   "execution_count": 10,
   "id": "1a19779d",
   "metadata": {},
   "outputs": [],
   "source": [
    "from tensorflow import keras\n",
    "from tensorflow.keras import layers\n",
    "import tensorflow as tf\n",
    "from keras.models import Sequential"
   ]
  },
  {
   "cell_type": "code",
   "execution_count": null,
   "id": "4f15bc63",
   "metadata": {},
   "outputs": [],
   "source": [
    "inputs = keras.Input(shape=(11,),name = 'input_l')\n",
    "\n",
    "dense = layers.Dense(4, activation=\"relu\" , name = 'hidden_l')\n",
    "x = dense(inputs) #hidden layer 1\n",
    "\n",
    "dense2 = layers.Dense(1, activation=\"sigmoid\" , name = 'output_l')\n",
    "outputs = dense2(x)\n",
    "\n",
    "model = keras.Model(inputs=inputs, outputs=outputs)\n",
    "\n"
   ]
  },
  {
   "cell_type": "code",
   "execution_count": null,
   "id": "d2196a28",
   "metadata": {},
   "outputs": [],
   "source": [
    "model.compile(optimizer=tf.keras.optimizers.Adam(learning_rate=0.003),\n",
    "              loss=tf.keras.losses.BinaryCrossentropy(),\n",
    "              metrics=[tf.keras.metrics.BinaryAccuracy()])"
   ]
  },
  {
   "cell_type": "code",
   "execution_count": null,
   "id": "aebd83a8",
   "metadata": {},
   "outputs": [],
   "source": []
  },
  {
   "cell_type": "code",
   "execution_count": null,
   "id": "777a3964",
   "metadata": {},
   "outputs": [],
   "source": []
  },
  {
   "cell_type": "code",
   "execution_count": null,
   "id": "71aacbc8",
   "metadata": {},
   "outputs": [],
   "source": [
    "chrom1=[]\n",
    "chrom2=[]\n",
    "chrom3=[]\n",
    "chrom4=[]\n",
    "chrom5=[]\n",
    "chrom6=[]\n",
    "\n",
    "chromosome_list= [chrom1,chrom2,chrom3,chrom4,chrom5,chrom6]"
   ]
  },
  {
   "cell_type": "code",
   "execution_count": null,
   "id": "5d344b32",
   "metadata": {},
   "outputs": [],
   "source": [
    "for i in range(6):\n",
    "    model.fit(x_train, y_train, epochs=20, batch_size=20,verbose=0)\n",
    "    c=0\n",
    "    \n",
    "    for layer in model.layers:\n",
    "        if c==1:\n",
    "            chromosome_list[i] = layer.get_weights() \n",
    "        c+=1\n",
    "    "
   ]
  },
  {
   "cell_type": "code",
   "execution_count": null,
   "id": "f73d28b6",
   "metadata": {},
   "outputs": [],
   "source": [
    "ch1=chromosome_list[0][0]\n",
    "ch2=chromosome_list[1][0]\n",
    "ch3=chromosome_list[2][0]\n",
    "ch4=chromosome_list[3][0]\n",
    "ch5=chromosome_list[4][0]\n",
    "ch6=chromosome_list[5][0]"
   ]
  },
  {
   "cell_type": "code",
   "execution_count": null,
   "id": "c89b1dd6",
   "metadata": {},
   "outputs": [],
   "source": [
    "from sklearn.metrics import accuracy_score"
   ]
  },
  {
   "cell_type": "code",
   "execution_count": null,
   "id": "3b446968",
   "metadata": {},
   "outputs": [],
   "source": [
    "fit_score=[]\n",
    "chrom_list=['ch1','ch2','ch3','ch4','ch5','ch6']\n",
    "chrom_dict = {'ch1':ch1,'ch2':ch2,'ch3':ch3,'ch4':ch4,'ch5':ch5,'ch6':ch6}"
   ]
  },
  {
   "cell_type": "code",
   "execution_count": null,
   "id": "d72c3793",
   "metadata": {},
   "outputs": [],
   "source": [
    "def fitness(ch,model,x_test,y_test):\n",
    "\n",
    "    c=0\n",
    "    for layer in model.layers:        \n",
    "        if c==1:\n",
    "            bias = layer.get_weights()[1]\n",
    "            layer.set_weights([ch,bias])\n",
    "        c+=1\n",
    "    \n",
    "    y_pred = model.predict(x_test, batch_size=20)\n",
    "    y_pred = np.where(y_pred>=0.5,1,0)\n",
    "    \n",
    "    print(accuracy_score(y_pred,y_test))\n",
    "    fitness_score.append([accuracy_score(y_pred,y_test),ch_list[i]])\n",
    "\n",
    "    "
   ]
  },
  {
   "cell_type": "code",
   "execution_count": null,
   "id": "325b8ccb",
   "metadata": {},
   "outputs": [],
   "source": [
    "ch=[ch1,ch2,ch3,ch4,ch5,ch6]"
   ]
  },
  {
   "cell_type": "code",
   "execution_count": null,
   "id": "73803839",
   "metadata": {},
   "outputs": [],
   "source": [
    "def crossover(arr1,arr2):\n",
    "    \n",
    "    crossover_point = 4\n",
    "    child1 = np.concatenate([arr1[:crossover_point],arr2[crossover_point:11]])\n",
    "    child2 = np.concatenate([arr2[:crossover_point],arr1[crossover_point:11]])\n",
    "    return child1,child2"
   ]
  },
  {
   "cell_type": "code",
   "execution_count": null,
   "id": "194f8f57",
   "metadata": {},
   "outputs": [],
   "source": [
    "\n",
    "def mutate(child1,child2):\n",
    "    m1 = np.random.uniform(0,1,4)\n",
    "    m2 = np.random.uniform(0,1,4)\n",
    "    mut_point = random.randint(0,11)\n",
    "    \n",
    "    child1_mut = child1\n",
    "    child2_mut = child2\n",
    "    \n",
    "    child1_mut[mut_point]=m1\n",
    "    child2_mut[mut_point]=m2\n",
    "    \n",
    "    return child1,child1_mut,child2,child2_mut"
   ]
  },
  {
   "cell_type": "code",
   "execution_count": null,
   "id": "58178041",
   "metadata": {},
   "outputs": [],
   "source": [
    "child1,child1_mut,child2,child2_mut = mutate(child1,child2)\n",
    "child_list = [child1,child1_mut,child2,child2_mut]"
   ]
  },
  {
   "cell_type": "code",
   "execution_count": null,
   "id": "24f409ec",
   "metadata": {},
   "outputs": [],
   "source": [
    "def repop(child_list,ch_dict,fitness_score,ch):\n",
    "    fitness_score.sort(key = lambda x:x[0],reverse = False)\n",
    "    \n",
    "    for i in range(4):\n",
    "        ch_dict[score[i][1]]=child_list[i]\n",
    "    ch = ch_dict.values()"
   ]
  },
  {
   "cell_type": "code",
   "execution_count": null,
   "id": "ebabdea7",
   "metadata": {},
   "outputs": [],
   "source": [
    "total_gen = 6\n",
    "\n",
    "while(total_gen>0):\n",
    "    \n",
    "    for i in range(6):\n",
    "        fitness(ch[i],model,x_test,y_test)\n",
    "    fitness_score.sort(key = lambda x:x[0],reverse = True) #finding the fitness score of initial pop\n",
    "    \n",
    "    \n",
    "    select = fit_score[:2]\n",
    "    parents = []\n",
    "    \n",
    "  \n",
    "    for i in range(len(select_parents)):\n",
    "        final_sel_parents.append(ch_dict[select[i][1]])\n",
    "    child1,child2 = crossover(parents[0],parents[1])\n",
    "    \n",
    " \n",
    "    child1,child1_mut,child2,child2_mut = mutate(child1,child2)\n",
    "    child_list = [child1,child1_mut,child2,child2_mut]\n",
    "    \n",
    "    \n",
    "    repop(child_list,ch_dict,fitness_score,ch)\n",
    "    \n",
    "    select=[]\n",
    "    parents=[]\n",
    "    child_list=[]\n",
    "    fit_score=[]\n",
    "    \n",
    "    \n",
    "    total_gen-=1"
   ]
  },
  {
   "cell_type": "code",
   "execution_count": null,
   "id": "df5a8f2d",
   "metadata": {},
   "outputs": [],
   "source": [
    "for i in range(6):\n",
    "    \n",
    "    \n",
    "    fitness(ch[i],model,x_test,y_test)"
   ]
  },
  {
   "cell_type": "code",
   "execution_count": null,
   "id": "40236250",
   "metadata": {},
   "outputs": [],
   "source": [
    "fit_score.sort(key=lambda x:x[1],reverse = True)\n",
    "fit_score[0]"
   ]
  },
  {
   "cell_type": "code",
   "execution_count": null,
   "id": "dc88879f",
   "metadata": {},
   "outputs": [],
   "source": [
    "c=0\n",
    "\n",
    "for layer in model.layers:\n",
    "    if c==1:\n",
    "        bias = layer.get_weights()[1]\n",
    "        layer.set_weights([chrom_dict['ch6'],bias])\n",
    "    c+=1"
   ]
  },
  {
   "cell_type": "code",
   "execution_count": null,
   "id": "8d7bacda",
   "metadata": {},
   "outputs": [],
   "source": [
    "c=0\n",
    "\n",
    "print('weights now: ')\n",
    "for layer in model.layers:\n",
    "    if c==1:\n",
    "        print(layer.name)\n",
    "        print(layer.get_weights())  \n",
    "    c +=1"
   ]
  },
  {
   "cell_type": "code",
   "execution_count": null,
   "id": "ab4fb63d",
   "metadata": {},
   "outputs": [],
   "source": []
  },
  {
   "cell_type": "code",
   "execution_count": null,
   "id": "f3627fb8",
   "metadata": {},
   "outputs": [],
   "source": []
  },
  {
   "cell_type": "code",
   "execution_count": null,
   "id": "46c94303",
   "metadata": {},
   "outputs": [],
   "source": []
  }
 ],
 "metadata": {
  "kernelspec": {
   "display_name": "Python 3 (ipykernel)",
   "language": "python",
   "name": "python3"
  },
  "language_info": {
   "codemirror_mode": {
    "name": "ipython",
    "version": 3
   },
   "file_extension": ".py",
   "mimetype": "text/x-python",
   "name": "python",
   "nbconvert_exporter": "python",
   "pygments_lexer": "ipython3",
   "version": "3.10.9"
  }
 },
 "nbformat": 4,
 "nbformat_minor": 5
}
